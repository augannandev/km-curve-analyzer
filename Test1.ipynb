{
 "cells": [
  {
   "cell_type": "code",
   "execution_count": 4,
   "metadata": {},
   "outputs": [],
   "source": [
    "# Install required packages\n",
    "#!pip install pandas streamlit ipywidgets pillow"
   ]
  },
  {
   "cell_type": "markdown",
   "metadata": {},
   "source": [
    "## Dependencies"
   ]
  },
  {
   "cell_type": "code",
   "execution_count": 5,
   "metadata": {},
   "outputs": [
    {
     "name": "stderr",
     "output_type": "stream",
     "text": [
      "/Users/aannan/anaconda3/lib/python3.11/site-packages/pandas/core/arrays/masked.py:60: UserWarning: Pandas requires version '1.3.6' or newer of 'bottleneck' (version '1.3.5' currently installed).\n",
      "  from pandas.core import (\n"
     ]
    }
   ],
   "source": [
    "import io\n",
    "import pandas as pd\n",
    "from PIL import Image\n",
    "import ipywidgets as widgets\n",
    "from IPython.display import display"
   ]
  },
  {
   "cell_type": "markdown",
   "metadata": {},
   "source": [
    "## File Upload"
   ]
  },
  {
   "cell_type": "code",
   "execution_count": 6,
   "metadata": {},
   "outputs": [
    {
     "data": {
      "application/vnd.jupyter.widget-view+json": {
       "model_id": "189110556b4c46d8a4327e139b821118",
       "version_major": 2,
       "version_minor": 0
      },
      "text/plain": [
       "Label(value='Upload Kaplan–Meier image (optional):')"
      ]
     },
     "metadata": {},
     "output_type": "display_data"
    },
    {
     "data": {
      "application/vnd.jupyter.widget-view+json": {
       "model_id": "714eb30114ed4af9a537784a2bf30b6e",
       "version_major": 2,
       "version_minor": 0
      },
      "text/plain": [
       "FileUpload(value=(), accept='image/*', description='Upload')"
      ]
     },
     "metadata": {},
     "output_type": "display_data"
    },
    {
     "data": {
      "application/vnd.jupyter.widget-view+json": {
       "model_id": "dc562735514b4cbd938aa9da8a3a9d8c",
       "version_major": 2,
       "version_minor": 0
      },
      "text/plain": [
       "Label(value='Upload survival data CSV/Excel:')"
      ]
     },
     "metadata": {},
     "output_type": "display_data"
    },
    {
     "data": {
      "application/vnd.jupyter.widget-view+json": {
       "model_id": "c7c5541f71a04037bcb449e7ff125958",
       "version_major": 2,
       "version_minor": 0
      },
      "text/plain": [
       "FileUpload(value=(), accept='.csv, .xls, .xlsx', description='Upload')"
      ]
     },
     "metadata": {},
     "output_type": "display_data"
    }
   ],
   "source": [
    "# Image upload\n",
    "img_uploader = widgets.FileUpload(accept='image/*', multiple=False)\n",
    "display(widgets.Label(\"Upload Kaplan–Meier image (optional):\"), img_uploader)\n",
    "\n",
    "# CSV/Excel upload\n",
    "data_uploader = widgets.FileUpload(\n",
    "    accept='.csv, .xls, .xlsx',\n",
    "    multiple=False\n",
    ")\n",
    "display(widgets.Label(\"Upload survival data CSV/Excel:\"), data_uploader)"
   ]
  },
  {
   "cell_type": "code",
   "execution_count": 7,
   "metadata": {},
   "outputs": [],
   "source": [
    "# Helper to read CSV/Excel\n",
    "def load_data(file_upload):\n",
    "    if not file_upload.value:\n",
    "        return None\n",
    "    uploaded = list(file_upload.value.values())[0]\n",
    "    content = io.BytesIO(uploaded['content'])\n",
    "    if uploaded['metadata']['type'] in ('text/csv', 'application/vnd.ms-excel'):\n",
    "        return pd.read_csv(content)\n",
    "    else:\n",
    "        return pd.read_excel(content)\n",
    "\n",
    "# Load upon widget changes\n",
    "img_obj = None\n",
    "surv_df = None"
   ]
  },
  {
   "cell_type": "markdown",
   "metadata": {},
   "source": [
    "## Question Processing"
   ]
  },
  {
   "cell_type": "code",
   "execution_count": 8,
   "metadata": {},
   "outputs": [
    {
     "data": {
      "application/vnd.jupyter.widget-view+json": {
       "model_id": "64deb7f9fa9c4907b18685471ceab47b",
       "version_major": 2,
       "version_minor": 0
      },
      "text/plain": [
       "Text(value='', description='Question:', layout=Layout(width='80%'), placeholder='E.g., \"What is the PFS at 12 …"
      ]
     },
     "metadata": {},
     "output_type": "display_data"
    }
   ],
   "source": [
    "question_input = widgets.Text(\n",
    "    placeholder='E.g., \"What is the PFS at 12 months for palbociclib+letrozole arm?\"',\n",
    "    description='Question:',\n",
    "    layout=widgets.Layout(width='80%')\n",
    ")\n",
    "display(question_input)"
   ]
  },
  {
   "cell_type": "code",
   "execution_count": 11,
   "metadata": {},
   "outputs": [],
   "source": [
    "def ask_llm(image: Image.Image, question: str) -> str:\n",
    "    \"\"\"\n",
    "    Send image and question to LLM and return its answer.\n",
    "    \"\"\"\n",
    "    # Convert image to base64 or attach via OpenAI function-calling\n",
    "    # Example: use multipart upload or encode directly\n",
    "    prompt = f\"Image analysis + data Q&A. Question: {question}\"\n",
    "    response = openai.ChatCompletion.create(\n",
    "        model='gpt-4o-mini',\n",
    "        messages=[\n",
    "            {\"role\": \"system\", \"content\": \"You are a helpful data scientist assistant.\"},\n",
    "            {\"role\": \"user\", \"content\": prompt}\n",
    "        ]\n",
    "    )\n",
    "    return response.choices[0].message.content"
   ]
  },
  {
   "cell_type": "code",
   "execution_count": 10,
   "metadata": {},
   "outputs": [
    {
     "data": {
      "application/vnd.jupyter.widget-view+json": {
       "model_id": "9651b1dcf20940b5b22f2b131cf4da0c",
       "version_major": 2,
       "version_minor": 0
      },
      "text/plain": [
       "Button(description='Ask Question', style=ButtonStyle())"
      ]
     },
     "metadata": {},
     "output_type": "display_data"
    },
    {
     "data": {
      "application/vnd.jupyter.widget-view+json": {
       "model_id": "4ee0655061a44412814624f5b6a1f305",
       "version_major": 2,
       "version_minor": 0
      },
      "text/plain": [
       "Output()"
      ]
     },
     "metadata": {},
     "output_type": "display_data"
    }
   ],
   "source": [
    "# Button to trigger\n",
    "ask_button = widgets.Button(description=\"Ask Question\")\n",
    "output_area = widgets.Output()\n",
    "\n",
    "def on_ask(b):\n",
    "    global img_obj, surv_df\n",
    "    with output_area:\n",
    "        output_area.clear_output()\n",
    "        # Load data\n",
    "        surv_df = load_data(data_uploader)\n",
    "        # Load image\n",
    "        if img_uploader.value:\n",
    "            img_bytes = list(img_uploader.value.values())[0]['content']\n",
    "            img_obj = Image.open(io.BytesIO(img_bytes))\n",
    "            display(img_obj)\n",
    "        # Ask LLM\n",
    "        ans = ask_llm(img_obj, question_input.value)\n",
    "        print(ans)\n",
    "\n",
    "ask_button.on_click(on_ask)\n",
    "display(ask_button, output_area)"
   ]
  },
  {
   "cell_type": "markdown",
   "metadata": {},
   "source": [
    "## 3. Parameter Extraction & Probability Lookup\n",
    "\n",
    "For questions that reference a specific time and curve name, we can:\n",
    "\n",
    "Extract time_point and curve_name via an LLM call.\n",
    "\n",
    "Lookup surv_probability in the uploaded surv_df."
   ]
  },
  {
   "cell_type": "code",
   "execution_count": null,
   "metadata": {},
   "outputs": [],
   "source": [
    "def extract_params(question: str) -> dict:\n",
    "    # Use LLM function-calling or regex fallback\n",
    "    func_call = openai.ChatCompletion.create(\n",
    "        model='gpt-4o-mini',\n",
    "        messages=[\n",
    "            {\"role\":\"system\",\"content\":\"Extract time (months) and curve name.\"},\n",
    "            {\"role\":\"user\",\"content\":question}\n",
    "        ],\n",
    "        functions=[\n",
    "            {\n",
    "                \"name\": \"extract_survival_params\",\n",
    "                \"parameters\": {\n",
    "                    \"type\": \"object\",\n",
    "                    \"properties\": {\n",
    "                        \"time_months\": {\"type\": \"number\"},\n",
    "                        \"curve_name\": {\"type\": \"string\"}\n",
    "                    },\n",
    "                    \"required\": [\"time_months\",\"curve_name\"]\n",
    "                }\n",
    "            }\n",
    "        ],\n",
    "        function_call={\"name\": \"extract_survival_params\"}\n",
    "    )\n",
    "    return func_call.choices[0].message.function_call.arguments\n",
    "\n",
    "# Lookup helper\n",
    "# After loading data and before lookup, add error handling\n",
    "if surv_df is None:\n",
    "    print(\"Error: No survival data uploaded. Please upload a CSV or Excel file.\")\n",
    "    return\n",
    "\n",
    "# Extract parameters\n",
    "params = extract_params(question_input.value)\n",
    "\n",
    "# Validate extracted parameters\n",
    "if 'time_months' not in params or 'curve_name' not in params:\n",
    "    print(\"Error: Could not extract time and curve name from your question. Please rephrase.\")\n",
    "    return\n",
    "\n",
    "# Lookup helper remains the same\n",
    "def lookup_survival(time_months: float, curve_name: str, df: pd.DataFrame) -> float:\n",
    "    # Assumes DataFrame columns: ['time', 'curve', 'survival_prob']\n",
    "    row = df[(df['time'] == time_months) & (df['curve'].str.lower() == curve_name.lower())]\n",
    "    return float(row['survival_prob'].iloc[0]) if not row.empty else None\n",
    "\n",
    "# Perform lookup\n",
    "prob = lookup_survival(params['time_months'], params['curve_name'], surv_df)\n",
    "\n",
    "# Handle missing lookup results\n",
    "if prob is None:\n",
    "    print(f\"Error: No survival probability found at {params['time_months']} months for '{params['curve_name']}'. Check your data or try a different time/curve.\")\n",
    "else:\n",
    "    print(f\"Survival probability at {params['time_months']} months for {params['curve_name']}: {prob}%\")"
   ]
  },
  {
   "cell_type": "code",
   "execution_count": null,
   "metadata": {},
   "outputs": [],
   "source": [
    "# Example integration within on_ask\n",
    "params = extract_params(question_input.value)\n",
    "prob = lookup_survival(params['time_months'], params['curve_name'], surv_df)\n",
    "print(f\"Survival probability at {params['time_months']} months for {params['curve_name']}: {prob}%\")"
   ]
  }
 ],
 "metadata": {
  "kernelspec": {
   "display_name": "base",
   "language": "python",
   "name": "python3"
  },
  "language_info": {
   "codemirror_mode": {
    "name": "ipython",
    "version": 3
   },
   "file_extension": ".py",
   "mimetype": "text/x-python",
   "name": "python",
   "nbconvert_exporter": "python",
   "pygments_lexer": "ipython3",
   "version": "3.11.5"
  }
 },
 "nbformat": 4,
 "nbformat_minor": 2
}
